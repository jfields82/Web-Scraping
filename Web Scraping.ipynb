{
 "cells": [
  {
   "cell_type": "code",
   "execution_count": 1,
   "metadata": {},
   "outputs": [
    {
     "name": "stdout",
     "output_type": "stream",
     "text": [
      "  Click \"show\" or \"hide\" to toggle this table  \\\n",
      "                              Type of Website   \n",
      "0                           Affiliate network   \n",
      "1                            Affiliate agency   \n",
      "2                                Archive site   \n",
      "3                             Malware website   \n",
      "4                               Blog (weblog)   \n",
      "\n",
      "                                                      \\\n",
      "                                         Description   \n",
      "0  A site, typically few in pages, whose purpose ...   \n",
      "1  Enabled portal that renders not only its custo...   \n",
      "2  Used to preserve valuable electronic content t...   \n",
      "3  A site created specifically to attack visitors...   \n",
      "4  Sites generally used to post online diaries wh...   \n",
      "\n",
      "                                                      \n",
      "                                            Examples  \n",
      "0                                                NaN  \n",
      "1  Commission Junction, advertisers like eBay, or...  \n",
      "2                    Internet Archive, Google Groups  \n",
      "3                                                NaN  \n",
      "4                                          WordPress  \n"
     ]
    }
   ],
   "source": [
    "import urllib.request\n",
    "import pandas as pd\n",
    "url = \"https://en.wikipedia.org/wiki/Website#Dynamic_website\"\n",
    "\n",
    "with urllib.request.urlopen(url) as i:\n",
    "    html = i.read()\n",
    "    \n",
    "data = pd.read_html(html)[0]\n",
    "print(data.head())"
   ]
  }
 ],
 "metadata": {
  "kernelspec": {
   "display_name": "Python 3.9.7 ('base')",
   "language": "python",
   "name": "python3"
  },
  "language_info": {
   "codemirror_mode": {
    "name": "ipython",
    "version": 3
   },
   "file_extension": ".py",
   "mimetype": "text/x-python",
   "name": "python",
   "nbconvert_exporter": "python",
   "pygments_lexer": "ipython3",
   "version": "3.9.7"
  },
  "orig_nbformat": 4,
  "vscode": {
   "interpreter": {
    "hash": "c1f301658ef5e6903a010280562a5c7f257d2aa2343987cbed8fe838250cd52c"
   }
  }
 },
 "nbformat": 4,
 "nbformat_minor": 2
}
